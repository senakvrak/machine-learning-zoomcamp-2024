{
 "cells": [
  {
   "cell_type": "markdown",
   "id": "cf332c64-f10d-431b-9e5a-4a4e456bc752",
   "metadata": {},
   "source": [
    "# Homework #2"
   ]
  },
  {
   "cell_type": "markdown",
   "id": "63340a73-f454-4c9e-8943-0265ee1c01f5",
   "metadata": {},
   "source": [
    "**Set up the environment**"
   ]
  },
  {
   "cell_type": "code",
   "execution_count": 54,
   "id": "bbaf8b85-a557-44a9-bb3c-01a479fdf037",
   "metadata": {},
   "outputs": [],
   "source": [
    "import numpy as np\n",
    "import pandas as pd"
   ]
  },
  {
   "cell_type": "markdown",
   "id": "4d5f0a6c-1489-47f6-a807-3cd4875b4910",
   "metadata": {},
   "source": [
    "**Dataset**"
   ]
  },
  {
   "cell_type": "code",
   "execution_count": 56,
   "id": "5b261764-8e18-4aab-b468-333fe5cbb77d",
   "metadata": {},
   "outputs": [
    {
     "data": {
      "text/plain": [
       "('laptops.csv', <http.client.HTTPMessage at 0x21bec3cc250>)"
      ]
     },
     "execution_count": 56,
     "metadata": {},
     "output_type": "execute_result"
    }
   ],
   "source": [
    "# The Laptops price dataset from Kaggle\n",
    "import urllib.request\n",
    "\n",
    "url = \"https://raw.githubusercontent.com/alexeygrigorev/datasets/master/laptops.csv\"\n",
    "filename = \"laptops.csv\"\n",
    "urllib.request.urlretrieve(url, filename)"
   ]
  },
  {
   "cell_type": "code",
   "execution_count": 58,
   "id": "6f50da87-089e-4f15-9ad6-c5ad9bc45415",
   "metadata": {},
   "outputs": [],
   "source": [
    "df = pd.read_csv(\"laptops.csv\")\n",
    "#df.head()"
   ]
  },
  {
   "cell_type": "code",
   "execution_count": 60,
   "id": "0fa68136-325a-4724-b20d-59038eddb046",
   "metadata": {},
   "outputs": [],
   "source": [
    "# Normalize the name of columns\n",
    "df.columns = df.columns.str.lower().str.replace(' ', '_')"
   ]
  },
  {
   "cell_type": "code",
   "execution_count": 62,
   "id": "3aeb3ff3-7c15-4d2d-b457-622e29e55ec5",
   "metadata": {
    "scrolled": true
   },
   "outputs": [
    {
     "data": {
      "text/html": [
       "<div>\n",
       "<style scoped>\n",
       "    .dataframe tbody tr th:only-of-type {\n",
       "        vertical-align: middle;\n",
       "    }\n",
       "\n",
       "    .dataframe tbody tr th {\n",
       "        vertical-align: top;\n",
       "    }\n",
       "\n",
       "    .dataframe thead th {\n",
       "        text-align: right;\n",
       "    }\n",
       "</style>\n",
       "<table border=\"1\" class=\"dataframe\">\n",
       "  <thead>\n",
       "    <tr style=\"text-align: right;\">\n",
       "      <th></th>\n",
       "      <th>laptop</th>\n",
       "      <th>status</th>\n",
       "      <th>brand</th>\n",
       "      <th>model</th>\n",
       "      <th>cpu</th>\n",
       "      <th>ram</th>\n",
       "      <th>storage</th>\n",
       "      <th>storage_type</th>\n",
       "      <th>gpu</th>\n",
       "      <th>screen</th>\n",
       "      <th>touch</th>\n",
       "      <th>final_price</th>\n",
       "    </tr>\n",
       "  </thead>\n",
       "  <tbody>\n",
       "    <tr>\n",
       "      <th>0</th>\n",
       "      <td>ASUS ExpertBook B1 B1502CBA-EJ0436X Intel Core...</td>\n",
       "      <td>New</td>\n",
       "      <td>Asus</td>\n",
       "      <td>ExpertBook</td>\n",
       "      <td>Intel Core i5</td>\n",
       "      <td>8</td>\n",
       "      <td>512</td>\n",
       "      <td>SSD</td>\n",
       "      <td>NaN</td>\n",
       "      <td>15.6</td>\n",
       "      <td>No</td>\n",
       "      <td>1009.00</td>\n",
       "    </tr>\n",
       "    <tr>\n",
       "      <th>1</th>\n",
       "      <td>Alurin Go Start Intel Celeron N4020/8GB/256GB ...</td>\n",
       "      <td>New</td>\n",
       "      <td>Alurin</td>\n",
       "      <td>Go</td>\n",
       "      <td>Intel Celeron</td>\n",
       "      <td>8</td>\n",
       "      <td>256</td>\n",
       "      <td>SSD</td>\n",
       "      <td>NaN</td>\n",
       "      <td>15.6</td>\n",
       "      <td>No</td>\n",
       "      <td>299.00</td>\n",
       "    </tr>\n",
       "    <tr>\n",
       "      <th>2</th>\n",
       "      <td>ASUS ExpertBook B1 B1502CBA-EJ0424X Intel Core...</td>\n",
       "      <td>New</td>\n",
       "      <td>Asus</td>\n",
       "      <td>ExpertBook</td>\n",
       "      <td>Intel Core i3</td>\n",
       "      <td>8</td>\n",
       "      <td>256</td>\n",
       "      <td>SSD</td>\n",
       "      <td>NaN</td>\n",
       "      <td>15.6</td>\n",
       "      <td>No</td>\n",
       "      <td>789.00</td>\n",
       "    </tr>\n",
       "    <tr>\n",
       "      <th>3</th>\n",
       "      <td>MSI Katana GF66 12UC-082XES Intel Core i7-1270...</td>\n",
       "      <td>New</td>\n",
       "      <td>MSI</td>\n",
       "      <td>Katana</td>\n",
       "      <td>Intel Core i7</td>\n",
       "      <td>16</td>\n",
       "      <td>1000</td>\n",
       "      <td>SSD</td>\n",
       "      <td>RTX 3050</td>\n",
       "      <td>15.6</td>\n",
       "      <td>No</td>\n",
       "      <td>1199.00</td>\n",
       "    </tr>\n",
       "    <tr>\n",
       "      <th>4</th>\n",
       "      <td>HP 15S-FQ5085NS Intel Core i5-1235U/16GB/512GB...</td>\n",
       "      <td>New</td>\n",
       "      <td>HP</td>\n",
       "      <td>15S</td>\n",
       "      <td>Intel Core i5</td>\n",
       "      <td>16</td>\n",
       "      <td>512</td>\n",
       "      <td>SSD</td>\n",
       "      <td>NaN</td>\n",
       "      <td>15.6</td>\n",
       "      <td>No</td>\n",
       "      <td>669.01</td>\n",
       "    </tr>\n",
       "  </tbody>\n",
       "</table>\n",
       "</div>"
      ],
      "text/plain": [
       "                                              laptop status   brand  \\\n",
       "0  ASUS ExpertBook B1 B1502CBA-EJ0436X Intel Core...    New    Asus   \n",
       "1  Alurin Go Start Intel Celeron N4020/8GB/256GB ...    New  Alurin   \n",
       "2  ASUS ExpertBook B1 B1502CBA-EJ0424X Intel Core...    New    Asus   \n",
       "3  MSI Katana GF66 12UC-082XES Intel Core i7-1270...    New     MSI   \n",
       "4  HP 15S-FQ5085NS Intel Core i5-1235U/16GB/512GB...    New      HP   \n",
       "\n",
       "        model            cpu  ram  storage storage_type       gpu  screen  \\\n",
       "0  ExpertBook  Intel Core i5    8      512          SSD       NaN    15.6   \n",
       "1          Go  Intel Celeron    8      256          SSD       NaN    15.6   \n",
       "2  ExpertBook  Intel Core i3    8      256          SSD       NaN    15.6   \n",
       "3      Katana  Intel Core i7   16     1000          SSD  RTX 3050    15.6   \n",
       "4         15S  Intel Core i5   16      512          SSD       NaN    15.6   \n",
       "\n",
       "  touch  final_price  \n",
       "0    No      1009.00  \n",
       "1    No       299.00  \n",
       "2    No       789.00  \n",
       "3    No      1199.00  \n",
       "4    No       669.01  "
      ]
     },
     "execution_count": 62,
     "metadata": {},
     "output_type": "execute_result"
    }
   ],
   "source": [
    "df.head()"
   ]
  },
  {
   "cell_type": "code",
   "execution_count": 100,
   "id": "4e9cc243-9121-4cc3-810b-5c0ad2206c79",
   "metadata": {
    "scrolled": true
   },
   "outputs": [
    {
     "data": {
      "text/html": [
       "<div>\n",
       "<style scoped>\n",
       "    .dataframe tbody tr th:only-of-type {\n",
       "        vertical-align: middle;\n",
       "    }\n",
       "\n",
       "    .dataframe tbody tr th {\n",
       "        vertical-align: top;\n",
       "    }\n",
       "\n",
       "    .dataframe thead th {\n",
       "        text-align: right;\n",
       "    }\n",
       "</style>\n",
       "<table border=\"1\" class=\"dataframe\">\n",
       "  <thead>\n",
       "    <tr style=\"text-align: right;\">\n",
       "      <th></th>\n",
       "      <th>ram</th>\n",
       "      <th>storage</th>\n",
       "      <th>screen</th>\n",
       "      <th>final_price</th>\n",
       "    </tr>\n",
       "  </thead>\n",
       "  <tbody>\n",
       "    <tr>\n",
       "      <th>0</th>\n",
       "      <td>8</td>\n",
       "      <td>512</td>\n",
       "      <td>15.6</td>\n",
       "      <td>1009.00</td>\n",
       "    </tr>\n",
       "    <tr>\n",
       "      <th>1</th>\n",
       "      <td>8</td>\n",
       "      <td>256</td>\n",
       "      <td>15.6</td>\n",
       "      <td>299.00</td>\n",
       "    </tr>\n",
       "    <tr>\n",
       "      <th>2</th>\n",
       "      <td>8</td>\n",
       "      <td>256</td>\n",
       "      <td>15.6</td>\n",
       "      <td>789.00</td>\n",
       "    </tr>\n",
       "    <tr>\n",
       "      <th>3</th>\n",
       "      <td>16</td>\n",
       "      <td>1000</td>\n",
       "      <td>15.6</td>\n",
       "      <td>1199.00</td>\n",
       "    </tr>\n",
       "    <tr>\n",
       "      <th>4</th>\n",
       "      <td>16</td>\n",
       "      <td>512</td>\n",
       "      <td>15.6</td>\n",
       "      <td>669.01</td>\n",
       "    </tr>\n",
       "  </tbody>\n",
       "</table>\n",
       "</div>"
      ],
      "text/plain": [
       "   ram  storage  screen  final_price\n",
       "0    8      512    15.6      1009.00\n",
       "1    8      256    15.6       299.00\n",
       "2    8      256    15.6       789.00\n",
       "3   16     1000    15.6      1199.00\n",
       "4   16      512    15.6       669.01"
      ]
     },
     "execution_count": 100,
     "metadata": {},
     "output_type": "execute_result"
    }
   ],
   "source": [
    "df_new = df[[\"ram\", \"storage\", \"screen\", \"final_price\"]]\n",
    "df_new.head()"
   ]
  },
  {
   "cell_type": "markdown",
   "id": "8c486a74-cba9-4952-89e8-229d4db996e8",
   "metadata": {},
   "source": [
    "**Question 1** <br>\n",
    "There's one column with missing values. What is it?"
   ]
  },
  {
   "cell_type": "code",
   "execution_count": 102,
   "id": "4ddbb055-ac18-49c7-bfc9-76d7bdf89633",
   "metadata": {},
   "outputs": [
    {
     "data": {
      "text/plain": [
       "ram            0\n",
       "storage        0\n",
       "screen         4\n",
       "final_price    0\n",
       "dtype: int64"
      ]
     },
     "execution_count": 102,
     "metadata": {},
     "output_type": "execute_result"
    }
   ],
   "source": [
    "df_new.isnull().sum()"
   ]
  },
  {
   "cell_type": "markdown",
   "id": "a3acb3f2-1cde-4b20-b6da-12a7fc088cb8",
   "metadata": {},
   "source": [
    "**Question 2** <br>\n",
    "What's the median (50% percentile) for variable 'ram'?"
   ]
  },
  {
   "cell_type": "code",
   "execution_count": 104,
   "id": "606a8958-e94f-4dc9-ac6a-013523e46421",
   "metadata": {},
   "outputs": [
    {
     "data": {
      "text/plain": [
       "16.0"
      ]
     },
     "execution_count": 104,
     "metadata": {},
     "output_type": "execute_result"
    }
   ],
   "source": [
    "df_new[\"ram\"].median()"
   ]
  },
  {
   "cell_type": "markdown",
   "id": "153e9696-dc90-46fd-a83b-288651f999db",
   "metadata": {},
   "source": [
    "**Prepare and split the dataset** <br>\n",
    "* Shuffle the dataset (the filtered one you created above), use seed 42. <br>\n",
    "* Split your data in train/val/test sets, with 60%/20%/20% distribution."
   ]
  },
  {
   "cell_type": "code",
   "execution_count": 106,
   "id": "cc07752a-3042-41f5-b720-ee9dbca8ce49",
   "metadata": {},
   "outputs": [],
   "source": [
    "n = len(df_new)\n",
    "n_val = int(n * 0.2)\n",
    "n_test = int(n * 0.2)\n",
    "n_train = n - n_val - n_test\n",
    "\n",
    "# n, n_val, n_test, n_train\n",
    "\n",
    "np.random.seed(42)\n",
    "\n",
    "idx = np.arange(n)\n",
    "np.random.shuffle(idx)\n",
    "#idx"
   ]
  },
  {
   "cell_type": "code",
   "execution_count": 108,
   "id": "ea30b8d6-f439-49ca-a165-ec81f8bef843",
   "metadata": {},
   "outputs": [],
   "source": [
    "df_train = df_new.iloc[idx[:n_train]]\n",
    "df_val = df_new.iloc[idx[n_train:n_train + n_val]]\n",
    "df_test = df_new.iloc[idx[n_train + n_val:]]\n",
    "\n",
    "#df_train.head()"
   ]
  },
  {
   "cell_type": "code",
   "execution_count": 110,
   "id": "c3cbfb83-0c6d-4a60-909a-e95674137243",
   "metadata": {},
   "outputs": [],
   "source": [
    "y_train = df_train.final_price.values\n",
    "y_val = df_val.final_price.values\n",
    "y_test = df_test.final_price.values\n",
    "\n",
    "del df_train[\"final_price\"]\n",
    "del df_val[\"final_price\"]\n",
    "del df_test[\"final_price\"]"
   ]
  },
  {
   "cell_type": "markdown",
   "id": "616e70eb-9167-4941-87c9-0da9238d3309",
   "metadata": {},
   "source": [
    "**Question 3**\n",
    "* We need to deal with missing values for the column from Q1.\n",
    "* We have two options: fill it with 0 or with the mean of this variable.\n",
    "* Try both options. For each, train a linear regression model without regularization using the code from the lessons.\n",
    "* For computing the mean, use the training only!\n",
    "* Use the validation dataset to evaluate the models and compare the RMSE of each option.\n",
    "* Round the RMSE scores to 2 decimal digits using round(score, 2)\n",
    "* Which option gives better RMSE? <br>\n",
    "\n",
    "Options:\n",
    "\n",
    "* With 0\n",
    "* With mean\n",
    "* Both are equally good"
   ]
  },
  {
   "cell_type": "code",
   "execution_count": 126,
   "id": "e247d4ba-730c-40ee-b439-2ae9fc4aa39f",
   "metadata": {},
   "outputs": [],
   "source": [
    "base =[\"ram\", \"storage\", \"screen\"]\n",
    "# Prepare X function (fill the missing values with 0)\n",
    "def prepare_X_zero(df):\n",
    "    df_num = df[base]\n",
    "    df_num = df_num.fillna(0)\n",
    "    X = df_num.values\n",
    "    return X\n",
    "\n",
    "# Prepare X function (fill missing values with the mean)\n",
    "def prepare_X_mean(df, mean_value):\n",
    "    df_num = df[base]\n",
    "    df_num = df_num.fillna(mean_value)\n",
    "    X = df_num.values\n",
    "    return X\n",
    "\n",
    "# Train Linear Regression\n",
    "def train_linear_regression(X, y):\n",
    "    ones = np.ones(X.shape[0]) # Add intercept\n",
    "    X = np.column_stack([ones, X])\n",
    "\n",
    "    XTX = X.T.dot(X)\n",
    "    XTX_inv = np.linalg.inv(XTX)\n",
    "    w = XTX_inv.dot(X.T).dot(y)\n",
    "\n",
    "    return w[0], w[1:]\n",
    "\n",
    "# RMSE function\n",
    "def rmse(y, y_pred):\n",
    "    error = y_pred - y\n",
    "    mse = (error ** 2).mean()\n",
    "    return np.sqrt(mse)"
   ]
  },
  {
   "cell_type": "code",
   "execution_count": 128,
   "id": "70cd1c0e-1ef7-4d09-969f-efef0b7e50dc",
   "metadata": {},
   "outputs": [
    {
     "name": "stdout",
     "output_type": "stream",
     "text": [
      "RMSE (filling with 0) - Train: 602.39, Validation: 597.36\n"
     ]
    }
   ],
   "source": [
    "# Prepare the training data (fill with 0)\n",
    "X_train_zero = prepare_X_zero(df_train)\n",
    "w0_zero, w_zero = train_linear_regression(X_train_zero, y_train)\n",
    "\n",
    "#Make predictions on the training set\n",
    "y_pred_train_zero = w0_zero + X_train_zero.dot(w_zero)\n",
    "\n",
    "# Calculate RMSE for the training set\n",
    "rmse_train_zero = rmse(y_train, y_pred_train_zero)\n",
    "\n",
    "# For the validation set\n",
    "X_val_zero = prepare_X_zero(df_val)\n",
    "y_pred_val_zero = w0_zero + X_val_zero.dot(w_zero)\n",
    "\n",
    "# Calculate RMSE for validation data\n",
    "rmse_val_zero = rmse(y_val, y_pred_val_zero)\n",
    "print(f\"RMSE (filling with 0) - Train: {round(rmse_train_zero, 2)}, Validation: {round(rmse_val_zero, 2)}\")"
   ]
  },
  {
   "cell_type": "code",
   "execution_count": 130,
   "id": "1a26eeac-31bb-453e-b977-207c35db22b6",
   "metadata": {},
   "outputs": [
    {
     "name": "stdout",
     "output_type": "stream",
     "text": [
      "RMSE (filling with mean) - Train: 602.18, Validation: 600.27\n"
     ]
    }
   ],
   "source": [
    "# Calculate the mean of the \"screen\" column \n",
    "mean_screen_train = df_train[\"screen\"].mean()\n",
    "\n",
    "# Prepare the training data (fill with mean)\n",
    "X_train_mean = prepare_X_mean(df_train, mean_screen_train)\n",
    "w0_mean, w_mean = train_linear_regression(X_train_mean, y_train)\n",
    "\n",
    "# Make predictions on the training set\n",
    "y_pred_train_mean = w0_mean + X_train_mean.dot(w_mean)\n",
    "\n",
    "# Calculate RMSE for the training data\n",
    "rmse_train_mean = rmse(y_train, y_pred_train_mean)\n",
    "\n",
    "# For the validation set\n",
    "X_val_mean = prepare_X_mean(df_val, mean_screen_train)\n",
    "y_pred_val_mean = w0_mean + X_val_mean.dot(w_mean)\n",
    "\n",
    "# Calculate RMSE for validation data\n",
    "rmse_val_mean = rmse(y_val, y_pred_val_mean)\n",
    "print(f\"RMSE (filling with mean) - Train: {round(rmse_train_mean, 2)}, Validation: {round(rmse_val_mean, 2)}\")"
   ]
  },
  {
   "cell_type": "markdown",
   "id": "fa541228-894f-4d7f-b223-04aba94950ce",
   "metadata": {},
   "source": [
    "**Question 4**\n",
    "* Now let's train a regularized linear regression.\n",
    "* For this question, fill the NAs with 0.\n",
    "* Try different values of r from this list: [0, 0.01, 0.1, 1, 5, 10, 100].\n",
    "* Use RMSE to evaluate the model on the validation dataset.\n",
    "* Round the RMSE scores to 2 decimal digits.\n",
    "* Which r gives the best RMSE? <br>\n",
    "\n",
    "If there are multiple options, select the smallest r. <br>\n",
    "\n",
    "Options:\n",
    "\n",
    "* 0\n",
    "* 0.01\n",
    "* 1\n",
    "* 10\n",
    "* 100"
   ]
  },
  {
   "cell_type": "code",
   "execution_count": 148,
   "id": "b3dcf62c-4cb7-49c2-837b-24836f9863c2",
   "metadata": {},
   "outputs": [],
   "source": [
    "n = len(df_new)\n",
    "n_val = int(n * 0.2)\n",
    "n_test = int(n * 0.2)\n",
    "n_train = n - n_val - n_test\n",
    "\n",
    "#n, n_val, n_test, n_train\n",
    "\n",
    "np.random.seed(42)\n",
    "\n",
    "idx = np.arange(n)\n",
    "np.random.shuffle(idx)\n",
    "#idx\n",
    "\n",
    "df_train = df_new.iloc[idx[:n_train]]\n",
    "df_val = df_new.iloc[idx[n_train:n_train + n_val]]\n",
    "df_test = df_new.iloc[idx[n_train + n_val:]]\n",
    "\n",
    "y_train = df_train.final_price.values\n",
    "y_val = df_val.final_price.values\n",
    "y_test = df_test.final_price.values\n",
    "\n",
    "del df_train[\"final_price\"]\n",
    "del df_val[\"final_price\"]\n",
    "del df_test[\"final_price\"]"
   ]
  },
  {
   "cell_type": "code",
   "execution_count": 150,
   "id": "cc8c4f04-6066-47b6-90d0-e28917826c79",
   "metadata": {},
   "outputs": [],
   "source": [
    "base =[\"ram\", \"storage\", \"screen\"]\n",
    "# Prepare X function (fill the missing values with 0)\n",
    "def prepare_X_reg(df):\n",
    "    df_num = df[base]\n",
    "    df_num = df_num.fillna(0)\n",
    "    X = df_num.values\n",
    "    return X\n",
    "\n",
    "# Regularized Linear Regression\n",
    "def train_linear_regression_reg(X, y, r=0.0):\n",
    "    ones = np.ones(X.shape[0])\n",
    "    X = np.column_stack([ones, X]) # Add intercept\n",
    "\n",
    "    XTX = X.T.dot(X)\n",
    "    reg = r * np.eye(XTX.shape[0]) # Add regularization term\n",
    "    XTX = XTX + reg\n",
    "\n",
    "    XTX_inv = np.linalg.inv(XTX)\n",
    "    w = XTX_inv.dot(X.T).dot(y)\n",
    "    \n",
    "    return w[0], w[1:]\n",
    "\n",
    "# RMSE function\n",
    "def rmse(y, y_pred):\n",
    "    error = y_pred - y\n",
    "    mse = (error ** 2).mean()\n",
    "    return np.sqrt(mse)"
   ]
  },
  {
   "cell_type": "code",
   "execution_count": 152,
   "id": "f5359245-9da4-455e-9aa1-24c2533b210f",
   "metadata": {},
   "outputs": [
    {
     "name": "stdout",
     "output_type": "stream",
     "text": [
      "r = 0: RMSE (Train): 602.39, RMSE (Validation): 597.36\n",
      "r = 0.01: RMSE (Train): 602.39, RMSE (Validation): 597.36\n",
      "r = 0.1: RMSE (Train): 602.39, RMSE (Validation): 597.35\n",
      "r = 1: RMSE (Train): 602.41, RMSE (Validation): 597.21\n",
      "r = 5: RMSE (Train): 602.71, RMSE (Validation): 597.01\n",
      "r = 10: RMSE (Train): 603.13, RMSE (Validation): 597.06\n",
      "r = 100: RMSE (Train): 604.99, RMSE (Validation): 597.9\n"
     ]
    }
   ],
   "source": [
    "# Prepare the training and validation data\n",
    "X_train_reg = prepare_X_reg(df_train)\n",
    "X_val_reg = prepare_X_reg(df_val)\n",
    "\n",
    "r_values = [0, 0.01, 0.1, 1, 5, 10, 100]\n",
    "\n",
    "best_r = None\n",
    "best_rmse_val = float(\"inf\")\n",
    "\n",
    "for r in r_values:\n",
    "    w0_reg, w_reg = train_linear_regression_reg(X_train_reg, y_train, r)\n",
    "\n",
    "    # Make predictions on the training set\n",
    "    y_pred_train_reg = w0_reg + X_train_reg.dot(w_reg)\n",
    "    # Calculate RMSE for the training set\n",
    "    rmse_train_reg = rmse(y_train, y_pred_train_reg)\n",
    "\n",
    "    # Make predictions on the validation set\n",
    "    y_pred_val_reg = w0_reg + X_val_reg.dot(w_reg)\n",
    "    # Calculate RMSE for validation data\n",
    "    rmse_val_reg = rmse(y_val, y_pred_val_reg)\n",
    "    \n",
    "    print(f\"r = {r}: RMSE (Train): {round(rmse_train_reg, 2)}, RMSE (Validation): {round(rmse_val_reg, 2)}\")"
   ]
  },
  {
   "cell_type": "markdown",
   "id": "9bc0c472-e747-4b73-a786-7b5a6869f0a6",
   "metadata": {},
   "source": [
    "**Question 5**\n",
    "* We used seed 42 for splitting the data. Let's find out how selecting the seed influences our score.\n",
    "* Try different seed values: [0, 1, 2, 3, 4, 5, 6, 7, 8, 9].\n",
    "* For each seed, do the train/validation/test split with 60%/20%/20% distribution.\n",
    "* Fill the missing values with 0 and train a model without regularization.\n",
    "* For each seed, evaluate the model on the validation dataset and collect the RMSE scores.\n",
    "* What's the standard deviation of all the scores? To compute the standard deviation, use np.std.\n",
    "* Round the result to 3 decimal digits (round(std, 3))\n",
    "\n",
    "What's the value of std?\n",
    "\n",
    "* 19.176\n",
    "* 29.176\n",
    "* 39.176\n",
    "* 49.176\n",
    "\n",
    "Note: Standard deviation shows how different the values are. If it's low, then all values are approximately the same. If it's high, the values are different. If standard deviation of scores is low, then our model is stable."
   ]
  },
  {
   "cell_type": "code",
   "execution_count": 197,
   "id": "a17fb94e-7f15-494a-90a0-8aeddc48434c",
   "metadata": {},
   "outputs": [],
   "source": [
    "base =[\"ram\", \"storage\", \"screen\"]\n",
    "# Prepare X function (fill the missing values with 0)\n",
    "def prepare_X_zero(df):\n",
    "    df_num = df[base]\n",
    "    df_num = df_num.fillna(0)\n",
    "    X = df_num.values\n",
    "    return X\n",
    "\n",
    "# Train Linear Regression\n",
    "def train_linear_regression(X, y):\n",
    "    ones = np.ones(X.shape[0]) # Add intercept\n",
    "    X = np.column_stack([ones, X])\n",
    "\n",
    "    XTX = X.T.dot(X)\n",
    "    XTX_inv = np.linalg.inv(XTX)\n",
    "    w = XTX_inv.dot(X.T).dot(y)\n",
    "\n",
    "    return w[0], w[1:]\n",
    "\n",
    "# RMSE function\n",
    "def rmse(y, y_pred):\n",
    "    error = y_pred - y\n",
    "    mse = (error ** 2).mean()\n",
    "    return np.sqrt(mse)"
   ]
  },
  {
   "cell_type": "code",
   "execution_count": 199,
   "id": "660a6f3d-ebaf-4479-8dd1-c602e684de96",
   "metadata": {},
   "outputs": [],
   "source": [
    "seeds = [0, 1, 2, 3, 4, 5, 6, 7, 8, 9]\n",
    "rmse_scores = [] # Placeholder to store RMSEs for each seed"
   ]
  },
  {
   "cell_type": "code",
   "execution_count": 201,
   "id": "9a5240a6-d84a-408a-bd18-8c91675053e0",
   "metadata": {},
   "outputs": [],
   "source": [
    "for seed in seeds:\n",
    "    # Split data\n",
    "    np.random.seed(seed)\n",
    "    \n",
    "    n = len(df_new)\n",
    "\n",
    "    n_val = int(n * 0.2)\n",
    "    n_train = n - n_val - n_test\n",
    "    \n",
    "    idx = np.arange(n)\n",
    "    np.random.shuffle(idx)\n",
    "\n",
    "    df_train = df_new.iloc[idx[:n_train]]\n",
    "    df_val = df_new.iloc[idx[n_train:n_train + n_val]]\n",
    "\n",
    "    # Prepare the data\n",
    "    X_train_zero = prepare_X_zero(df_train)\n",
    "    y_train = df_train.final_price.values\n",
    "\n",
    "    X_val_zero = prepare_X_zero(df_val)\n",
    "    y_val = df_val.final_price.values\n",
    "\n",
    "    # Train linear regression model without regularization\n",
    "    w0_zero, w_zero = train_linear_regression(X_train_zero, y_train)\n",
    "\n",
    "    # Make predictions on the validation set\n",
    "    y_pred_val_zero = w0_zero + X_val_zero.dot(w_zero)\n",
    "#    y_pred_val_zero = np.expm1(w0_zero + X_val_zero.dot(w_zero))\n",
    "    \n",
    "    # Calculate RMSE for validation data\n",
    "    rmse_val_zero = rmse(y_val, y_pred_val_zero)\n",
    "    rmse_scores.append(rmse_val_zero)"
   ]
  },
  {
   "cell_type": "code",
   "execution_count": 203,
   "id": "c17898bf-5d51-48fe-bffd-b990fcd33c9a",
   "metadata": {},
   "outputs": [
    {
     "name": "stdout",
     "output_type": "stream",
     "text": [
      "RMSE scores: [565.4520868770995, 636.7985423056726, 588.955869790796, 597.8148920012515, 571.962791511103, 573.238325661895, 647.3438328407194, 550.4398184485962, 587.3335036169963, 576.101792943313]\n",
      "Standard deviation of RMSE: 29.176\n"
     ]
    }
   ],
   "source": [
    "# Compute the standard deviation of RMSEs\n",
    "std_rmse = np.std(rmse_scores)\n",
    "std_rmse_rounded = round(std_rmse, 3)\n",
    "\n",
    "print(f\"RMSE scores: {rmse_scores}\")\n",
    "print(f\"Standard deviation of RMSE: {std_rmse_rounded}\")"
   ]
  },
  {
   "cell_type": "markdown",
   "id": "1f59b9d3-58b3-43f3-ad32-e58833cd4a75",
   "metadata": {},
   "source": [
    "**Question 6**\n",
    "* Split the dataset like previously, use seed 9.\n",
    "* Combine train and validation datasets.\n",
    "* Fill the missing values with 0 and train a model with r=0.001.\n",
    "* What's the RMSE on the test dataset?\n",
    "\n",
    "Options:\n",
    "* 598.60\n",
    "* 608.60\n",
    "* 618.60\n",
    "* 628.60"
   ]
  },
  {
   "cell_type": "code",
   "execution_count": 276,
   "id": "ac1cdcf9-8a9f-4ebf-99a9-2e497e6a5f66",
   "metadata": {},
   "outputs": [],
   "source": [
    "base =[\"ram\", \"storage\", \"screen\"]\n",
    "# Prepare X function (fill the missing values with 0)\n",
    "def prepare_X_zero(df):\n",
    "    df_num = df[base]\n",
    "    df_num = df_num.fillna(0)\n",
    "    X = df_num.values\n",
    "    return X\n",
    "\n",
    "# Regularized Linear Regression\n",
    "def train_linear_regression_reg(X, y, r):\n",
    "    ones = np.ones(X.shape[0])\n",
    "    X = np.column_stack([ones, X]) # Add intercept\n",
    "\n",
    "    XTX = X.T.dot(X)\n",
    "    reg = r * np.eye(XTX.shape[0]) # Add regularization term\n",
    "    XTX = XTX + reg\n",
    "\n",
    "    XTX_inv = np.linalg.inv(XTX)\n",
    "    w = XTX_inv.dot(X.T).dot(y)\n",
    "    \n",
    "    return w[0], w[1:]\n",
    "\n",
    "# RMSE function\n",
    "def rmse(y, y_pred):\n",
    "    error = y_pred - y\n",
    "    mse = (error ** 2).mean()\n",
    "    return np.sqrt(mse)"
   ]
  },
  {
   "cell_type": "code",
   "execution_count": 278,
   "id": "36d1564c-4f16-4502-b741-95a4d301f71b",
   "metadata": {},
   "outputs": [],
   "source": [
    "n = len(df_new)\n",
    "n_val = int(n * 0.2)\n",
    "n_test = int(n * 0.2)\n",
    "n_train = n - n_val - n_test\n",
    "\n",
    "#n, n_val, n_test, n_train\n",
    "\n",
    "np.random.seed(9)\n",
    "idx = np.arange(n)\n",
    "np.random.shuffle(idx)\n",
    "#idx\n",
    "\n",
    "df_train = df_new.iloc[idx[:n_train]]\n",
    "df_val = df_new.iloc[idx[n_train:n_train + n_val]]\n",
    "df_test = df_new.iloc[idx[n_train + n_val:]]\n",
    "\n",
    "# Combine train and validation sets \n",
    "df_train_combined = pd.concat([df_train, df_val])\n",
    "\n",
    "# Prepare the target\n",
    "y_train_combined = df_train_combined.final_price.values\n",
    "y_test = df_test.final_price.values\n",
    "\n",
    "del df_train_combined[\"final_price\"]\n",
    "del df_test[\"final_price\"]"
   ]
  },
  {
   "cell_type": "code",
   "execution_count": 280,
   "id": "2b026475-992d-4aab-bd1e-2d48210f0006",
   "metadata": {},
   "outputs": [
    {
     "name": "stdout",
     "output_type": "stream",
     "text": [
      "RMSE on the test set: 608.61\n"
     ]
    }
   ],
   "source": [
    "# Prepare the training data (fill with 0)\n",
    "X_train_zero = prepare_X_zero(df_train_combined)\n",
    "X_test_zero = prepare_X_zero(df_test)\n",
    "\n",
    "# Train regularized linear regression model with r = 0.001\n",
    "w0_zero, w_zero = train_linear_regression_reg(X_train_zero, y_train_combined, 0.001)\n",
    "\n",
    "#Make predictions on the test set\n",
    "y_pred_test_zero = w0_zero + X_test_zero.dot(w_zero)\n",
    "\n",
    "# Calculate RMSE for the test set\n",
    "rmse_test_zero = rmse(y_test, y_pred_test_zero)\n",
    "\n",
    "print(f\"RMSE on the test set: {round(rmse_test_zero, 2)}\")"
   ]
  }
 ],
 "metadata": {
  "kernelspec": {
   "display_name": "Python 3 (ipykernel)",
   "language": "python",
   "name": "python3"
  },
  "language_info": {
   "codemirror_mode": {
    "name": "ipython",
    "version": 3
   },
   "file_extension": ".py",
   "mimetype": "text/x-python",
   "name": "python",
   "nbconvert_exporter": "python",
   "pygments_lexer": "ipython3",
   "version": "3.11.7"
  }
 },
 "nbformat": 4,
 "nbformat_minor": 5
}
